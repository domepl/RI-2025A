{
 "cells": [
  {
   "cell_type": "markdown",
   "id": "941741204a003f44",
   "metadata": {},
   "source": [
    "# Ejercicio 4: Modelo Probabilístico\n",
    "\n",
    "## Objetivo de la práctica\n",
    "- Comprender los componentes del modelo vectorial mediante cálculos manuales y observación directa.\n",
    "- Aplicar el modelo de espacio vectorial con TF-IDF para recuperar documentos relevantes.\n",
    "- Comparar la recuperación con BM25 frente a TF-IDF.\n",
    "- Analizar visualmente las diferencias entre los modelos.\n",
    "- Evaluar si los rankings generados son consistentes con lo que considerarías documentos relevantes."
   ]
  },
  {
   "cell_type": "markdown",
   "id": "93bafe7a6a4ef9e5",
   "metadata": {},
   "source": [
    "## Parte 0: Carga del Corpus"
   ]
  },
  {
   "cell_type": "code",
   "execution_count": 15,
   "id": "ad08bb8bd43ae327",
   "metadata": {
    "ExecuteTime": {
     "end_time": "2025-05-21T14:16:07.323562Z",
     "start_time": "2025-05-21T14:16:05.364309Z"
    }
   },
   "outputs": [
    {
     "name": "stdout",
     "output_type": "stream",
     "text": [
      "Number of documents: 18846\n",
      "Primer documento len: 712\n",
      "Tamaño de la lista: 150824 bytes\n"
     ]
    }
   ],
   "source": [
    "from sklearn.datasets import fetch_20newsgroups # type: ignore\n",
    "import sys\n",
    "\n",
    "newsgroups = fetch_20newsgroups(subset='all', remove=('headers', 'footers', 'quotes'))\n",
    "newsgroupsdocs = newsgroups.data\n",
    "\n",
    "print(\"Number of documents:\", len(newsgroupsdocs))\n",
    "print(\"Primer documento len:\", len(newsgroupsdocs[0]))\n",
    "print(\"Tamaño de la lista:\", sys.getsizeof(newsgroupsdocs), \"bytes\")"
   ]
  },
  {
   "cell_type": "markdown",
   "id": "10f8c7f78934f497",
   "metadata": {},
   "source": [
    "## Parte 1: Cálculo de TF, DF, IDF y TF-IDF\n",
    "\n",
    "### Actividad \n",
    "1. Utiliza el corpus cargado.\n",
    "2. Construye la matriz de términos (TF), y calcula la frecuencia de documentos (DF)\n",
    "3. Calcula TF-IDF utilizando sklearn.\n",
    "4. Visualiza los valores en un DataFrame para analizar las diferencias entre los términos."
   ]
  },
  {
   "cell_type": "code",
   "execution_count": 16,
   "id": "bfd3089e",
   "metadata": {},
   "outputs": [
    {
     "name": "stdout",
     "output_type": "stream",
     "text": [
      "          Término  TF-IDF (doc 0)     DF       IDF\n",
      "51           pens       32.437001     77  6.487400\n",
      "34           jagr       14.820244     30  7.410122\n",
      "16         devils       12.899320     80  6.449660\n",
      "74            the       11.795134  15749  1.179513\n",
      "12            bit       11.637086   1058  3.879029\n",
      "49             of       11.089021  12809  1.386128\n",
      "23            fun       11.081608    200  5.540804\n",
      "61        regular       10.702095    242  5.351048\n",
      "65         season       10.247595    304  5.123797\n",
      "52  pittsburghers        9.745497      2  9.745497\n"
     ]
    }
   ],
   "source": [
    "import pandas as pd\n",
    "from sklearn.feature_extraction.text import TfidfVectorizer\n",
    "\n",
    "# 1. Utiliza el corpus cargado (newsgroupsdocs)\n",
    "# Puedes probar con una muestra más pequeña si es necesario\n",
    "# newsgroupsdocs = newsgroupsdocs[:1000]\n",
    "\n",
    "# 2. Construye la matriz de términos (TF-IDF)\n",
    "vectorizer = TfidfVectorizer(use_idf=True, norm=None)  # norm=None para ver los valores reales de TF e IDF\n",
    "X_tfidf = vectorizer.fit_transform(newsgroupsdocs)\n",
    "\n",
    "# 3. Extrae el vocabulario\n",
    "vocabulario = vectorizer.get_feature_names_out()\n",
    "\n",
    "# 4. Calcula DF e IDF\n",
    "df = (X_tfidf > 0).sum(axis=0).A1  # Document Frequency\n",
    "idf = vectorizer.idf_  # IDF de sklearn\n",
    "\n",
    "# 5. Obtén TF-IDF del documento 0 sin convertir toda la matriz\n",
    "doc_0_sparse = X_tfidf[0]  # Matriz dispersa para el doc 0\n",
    "indices = doc_0_sparse.indices\n",
    "data = doc_0_sparse.data\n",
    "\n",
    "# 6. Construye el DataFrame solo con los términos del documento 0\n",
    "df_doc0 = pd.DataFrame({\n",
    "    'Término': vocabulario[indices],\n",
    "    'TF-IDF (doc 0)': data,\n",
    "    'DF': df[indices],\n",
    "    'IDF': idf[indices]\n",
    "})\n",
    "\n",
    "# 7. Ordena por los términos con mayor TF-IDF en el documento 0\n",
    "df_doc0 = df_doc0.sort_values(by='TF-IDF (doc 0)', ascending=False)\n",
    "\n",
    "# 8. Muestra los primeros términos relevantes\n",
    "print(df_doc0.head(10))\n"
   ]
  },
  {
   "cell_type": "markdown",
   "id": "64491bce5361e8b3",
   "metadata": {},
   "source": [
    "## Parte 2: Ranking de documentos usando TF-IDF\n",
    "\n",
    "### Actividad \n",
    "\n",
    "1. Dada una consulta, construye el vector de consulta\n",
    "2. Calcula la similitud coseno entre la consulta y cada documento usando los vectores TF-IDF\n",
    "3. Genera un ranking de los documentos ordenados por relevancia.\n",
    "4. Muestra los resultados en una tabla."
   ]
  },
  {
   "cell_type": "code",
   "execution_count": 17,
   "id": "9d082c4a156b9554",
   "metadata": {},
   "outputs": [
    {
     "name": "stdout",
     "output_type": "stream",
     "text": [
      "   Indice Documento  Similitud                      Contenido\n",
      "0             10867   0.580539   Archive-name: space/group...\n",
      "1             15147   0.561542   There is an interesting o...\n",
      "2             10571   0.509317  Archive-name: space/net\\nL...\n",
      "3              2826   0.444225   [A lot of this article ha...\n",
      "4             12888   0.423766   This notice will be poste...\n",
      "Documento con mayor similitud: 10867\n",
      "Similitud total: 0.5805389673139816\n"
     ]
    }
   ],
   "source": [
    "from sklearn.metrics.pairwise import cosine_similarity\n",
    "\n",
    "# 3. Definir una consulta (se puede cambiar)\n",
    "consulta = [\"space\"]\n",
    "\n",
    "# 4. Vectorizar la consulta usando el mismo vectorizador entrenado\n",
    "consulta_tfidf = vectorizer.transform(consulta)\n",
    "\n",
    "# 5. Calcular la similitud coseno entre la consulta y todos los documentos\n",
    "similitudes = cosine_similarity(consulta_tfidf, X_tfidf).flatten()\n",
    "\n",
    "# 6. Obtener el ranking (índices de documentos más relevantes)\n",
    "ranking_indices = similitudes.argsort()[::-1]\n",
    "\n",
    "# 7. Mostrar el top N resultado\n",
    "top_n = 5\n",
    "resultados = pd.DataFrame({\n",
    "    'Indice Documento': ranking_indices[:top_n],\n",
    "    'Similitud': similitudes[ranking_indices[:top_n]],\n",
    "    'Contenido': [newsgroupsdocs[i][:25] + \"...\" for i in ranking_indices[:top_n]]  # Mostrar solo los primeros 200 caracteres\n",
    "})\n",
    "\n",
    "\n",
    "# Mostrar la tabla\n",
    "print(resultados)\n",
    "\n",
    "# Obtener el índice del documento con mayor similitud\n",
    "indice_mayor_similitud = ranking_indices[0]\n",
    "\n",
    "# Imprimir el contenido del documento con mayor similitud\n",
    "print(\"Documento con mayor similitud:\", indice_mayor_similitud)\n",
    "print(\"Similitud total:\", similitudes[indice_mayor_similitud])"
   ]
  },
  {
   "cell_type": "markdown",
   "id": "97061325508dc5f2",
   "metadata": {},
   "source": [
    "## Parte 3: Ranking con BM25\n",
    "\n",
    "### Actividad \n",
    "\n",
    "1. Implementa un sistema de recuperación usando el modelo BM25.\n",
    "2. Usa la misma consulta del ejercicio anterior.\n",
    "3. Calcula el score BM25 para cada documento y genera un ranking.\n",
    "4. Compara manualmente con el ranking de TF-IDF."
   ]
  },
  {
   "cell_type": "code",
   "execution_count": 18,
   "id": "2a0dca2bcfa73c5b",
   "metadata": {},
   "outputs": [
    {
     "name": "stdout",
     "output_type": "stream",
     "text": [
      "Requirement already satisfied: rank_bm25 in c:\\users\\hmpla\\appdata\\local\\programs\\python\\python311\\lib\\site-packages (0.2.2)\n",
      "Requirement already satisfied: numpy in c:\\users\\hmpla\\appdata\\local\\programs\\python\\python311\\lib\\site-packages (from rank_bm25) (1.26.4)\n"
     ]
    },
    {
     "name": "stderr",
     "output_type": "stream",
     "text": [
      "\n",
      "[notice] A new release of pip available: 22.3.1 -> 25.1.1\n",
      "[notice] To update, run: python.exe -m pip install --upgrade pip\n"
     ]
    }
   ],
   "source": [
    "!pip install rank_bm25"
   ]
  },
  {
   "cell_type": "code",
   "execution_count": 19,
   "id": "808fa7ab",
   "metadata": {},
   "outputs": [
    {
     "name": "stdout",
     "output_type": "stream",
     "text": [
      "   Documento     Score                                              Texto\n",
      "0      15147  7.763424  There is an interesting opinion piece in the b...\n",
      "1      10867  7.697895  Archive-name: space/groups\\nLast-modified: $Da...\n",
      "2      14293  7.545986  We are not at the end of the Space Age, but on...\n",
      "3      15083  7.358824  Archive-name: space/addresses\\nLast-modified: ...\n",
      "4      18182  7.288839  I'm replying to someone who asked for informat...\n",
      "5        610  7.285465  To All -- I thought the net would find this am...\n",
      "6       8330  7.168685  \\nIf raw materials where to cost enough that g...\n",
      "7       5749  7.151472  \\nat least be honest.  velcro (tm) dates from ...\n",
      "8        453  7.063588  : >Why not build a inflatable space dock.\\n\\n:...\n",
      "9      10571  7.030645  Archive-name: space/net\\nLast-modified: $Date:...\n"
     ]
    }
   ],
   "source": [
    "from rank_bm25 import BM25Okapi\n",
    "import numpy as np\n",
    "import pandas as pd\n",
    "\n",
    "# 1. Prepara el corpus tokenizado para BM25\n",
    "tokenized_corpus = [doc.lower().split() for doc in newsgroupsdocs]\n",
    "\n",
    "# 2. Crea el modelo BM25\n",
    "bm25 = BM25Okapi(tokenized_corpus)\n",
    "\n",
    "# 3. Definir o verificar la consulta\n",
    "# Por ejemplo:\n",
    "# consulta = \"space mission launch\"   # si no está definida\n",
    "\n",
    "# Validación: asegurarse de que consulta es string\n",
    "if consulta is None:\n",
    "    raise ValueError(\"La variable 'consulta' no está definida.\")\n",
    "\n",
    "if isinstance(consulta, list):\n",
    "    consulta = \" \".join(consulta)  # convertir lista a string\n",
    "\n",
    "if not isinstance(consulta, str):\n",
    "    raise TypeError(\"La variable 'consulta' debe ser una cadena de texto o lista de palabras.\")\n",
    "\n",
    "# 4. Tokeniza la consulta\n",
    "consulta_bm25 = consulta.lower().split()\n",
    "\n",
    "# 5. Calcula los scores BM25 para cada documento\n",
    "bm25_scores = bm25.get_scores(consulta_bm25)\n",
    "\n",
    "# 6. Genera el ranking de los documentos ordenados por relevancia\n",
    "ranking_bm25 = np.argsort(bm25_scores)[::-1]\n",
    "top_n = 10\n",
    "\n",
    "# 7. Muestra los resultados en una tabla\n",
    "resultados_bm25 = pd.DataFrame({\n",
    "    'Documento': ranking_bm25[:top_n],\n",
    "    'Score': [bm25_scores[i] for i in ranking_bm25[:top_n]],\n",
    "    'Texto': [newsgroupsdocs[i][:200] + \"...\" for i in ranking_bm25[:top_n]]\n",
    "})\n",
    "\n",
    "# 8. Muestra los resultados ordenados\n",
    "print(resultados_bm25)\n"
   ]
  },
  {
   "cell_type": "markdown",
   "id": "2c71b85e77b4b181",
   "metadata": {},
   "source": [
    "## Parte 4: Comparación visual entre TF-IDF y BM25\n",
    "\n",
    "### Actividad \n",
    "\n",
    "1. Utiliza un gráfico de barras para visualizar los scores obtenidos por cada documento según TF-IDF y BM25.\n",
    "2. Compara los rankings visualmente.\n",
    "3. Identifica: ¿Qué documentos obtienen scores más altos en un modelo que en otro?\n",
    "4. Sugiere: ¿A qué se podría deber esta diferencia?"
   ]
  },
  {
   "cell_type": "code",
   "execution_count": 20,
   "id": "16ad3d9d16c04d35",
   "metadata": {},
   "outputs": [
    {
     "data": {
      "image/png": "[encoded data removed]",
      "text/plain": [
       "<Figure size 1200x600 with 1 Axes>"
      ]
     },
     "metadata": {},
     "output_type": "display_data"
    }
   ],
   "source": [
    "%matplotlib inline\n",
    "import matplotlib.pyplot as plt\n",
    "\n",
    "# Selecciona los mismos documentos top_n para ambos modelos (por ejemplo, los top 10 de TF-IDF)\n",
    "top_n = 10\n",
    "top_tfidf_indices = ranking_indices[:top_n]\n",
    "\n",
    "# Prepara los datos para el gráfico\n",
    "tfidf_scores_top = similitudes[top_tfidf_indices]\n",
    "bm25_scores_top = bm25_scores[top_tfidf_indices]  # BM25 para los mismos docs que top TF-IDF\n",
    "\n",
    "# Gráfico de barras comparativo\n",
    "plt.figure(figsize=(12, 6))\n",
    "plt.bar(range(top_n), tfidf_scores_top, width=0.4, label='TF-IDF', align='center', color='orange')\n",
    "plt.bar([i + 0.4 for i in range(top_n)], bm25_scores_top, width=0.4, label='BM25', align='center', color='steelblue')\n",
    "plt.xticks([i + 0.2 for i in range(top_n)], top_tfidf_indices, rotation=45)\n",
    "plt.xlabel('Índice de Documento')\n",
    "plt.ylabel('Score')\n",
    "plt.title('Comparación de Scores: TF-IDF vs BM25 (Top 10 TF-IDF)')\n",
    "plt.legend()\n",
    "plt.tight_layout()\n",
    "plt.show()\n"
   ]
  },
  {
   "cell_type": "markdown",
   "id": "b97d171655ecfb",
   "metadata": {},
   "source": [
    "## Parte 5: Evaluación con consulta relevante\n",
    "\n",
    "### Actividad \n",
    "\n",
    "1. Elige una consulta y define qué documentos del corpus deberían considerarse relevantes.\n",
    "2. Evalúa Precision@3 o MAP para los rankings generados con TF-IDF y BM25.\n",
    "3. Responde: ¿Cuál modelo da mejores resultados respecto a tu criterio de relevancia?"
   ]
  },
  {
   "cell_type": "code",
   "execution_count": 24,
   "id": "6d5de59378900ca",
   "metadata": {},
   "outputs": [
    {
     "name": "stdout",
     "output_type": "stream",
     "text": [
      "\n",
      "📊 Evaluación de modelos para la consulta: space shuttle\n",
      "Documentos relevantes definidos manualmente: {420, 135, 40, 123, 987}\n",
      "🔹 BM25    - Precision@3: 0.000, MAP: 0.000\n",
      "🔸 TF-IDF  - Precision@3: 0.000, MAP: 0.000\n"
     ]
    },
    {
     "data": {
      "image/png": "[encoded data removed]",
      "text/plain": [
       "<Figure size 1200x600 with 1 Axes>"
      ]
     },
     "metadata": {},
     "output_type": "display_data"
    },
    {
     "name": "stdout",
     "output_type": "stream",
     "text": [
      "\n",
      "📝 Comparación de documentos top 10 (según BM25):\n",
      "   Documento  Score BM25  Score TF-IDF Relevante\n",
      "0       7057   15.989355      0.298103          \n",
      "1       2080   15.774952      0.393987          \n",
      "2       8398   13.830863      0.367030          \n",
      "3      14142   13.402936      0.254314          \n",
      "4      13764   13.368513      0.206197          \n",
      "5      15151   13.306665      0.347948          \n",
      "6      12888   13.246286      0.444718          \n",
      "7       1727   13.218306      0.217398          \n",
      "8       4672   13.205103      0.376883          \n",
      "9      16936   13.127146      0.298001          \n"
     ]
    }
   ],
   "source": [
    "import pandas as pd\n",
    "import numpy as np\n",
    "import matplotlib.pyplot as plt\n",
    "from sklearn.feature_extraction.text import TfidfVectorizer\n",
    "from sklearn.metrics.pairwise import cosine_similarity\n",
    "from rank_bm25 import BM25Okapi\n",
    "\n",
    "# -----------------------------------------------------\n",
    "# Paso 1: Cargar corpus y definir consulta relevante\n",
    "# -----------------------------------------------------\n",
    "# Suponiendo que ya tienes cargado el corpus 'newsgroupsdocs'\n",
    "# Ejemplo si no lo tienes:\n",
    "# from sklearn.datasets import fetch_20newsgroups\n",
    "# newsgroups = fetch_20newsgroups(subset='all')\n",
    "# newsgroupsdocs = newsgroups.data\n",
    "\n",
    "# Consulta\n",
    "consulta = \"space shuttle\"\n",
    "\n",
    "# Documentos que consideras relevantes (ajusta según tu conocimiento del corpus)\n",
    "documentos_relevantes = {40, 123, 135, 420, 987}\n",
    "\n",
    "# -----------------------------------------------------\n",
    "# Paso 2: Preprocesamiento para BM25 y TF-IDF\n",
    "# -----------------------------------------------------\n",
    "tokenized_corpus = [doc.lower().split() for doc in newsgroupsdocs]\n",
    "\n",
    "# BM25\n",
    "bm25 = BM25Okapi(tokenized_corpus)\n",
    "consulta_bm25 = consulta.lower().split()\n",
    "bm25_scores = bm25.get_scores(consulta_bm25)\n",
    "ranking_bm25 = np.argsort(bm25_scores)[::-1]\n",
    "\n",
    "# TF-IDF\n",
    "tfidf_vectorizer = TfidfVectorizer()\n",
    "X_tfidf = tfidf_vectorizer.fit_transform(newsgroupsdocs)\n",
    "consulta_tfidf = tfidf_vectorizer.transform([consulta])\n",
    "tfidf_scores = cosine_similarity(X_tfidf, consulta_tfidf).flatten()\n",
    "ranking_tfidf = np.argsort(tfidf_scores)[::-1]\n",
    "\n",
    "# -----------------------------------------------------\n",
    "# Paso 3: Funciones de evaluación\n",
    "# -----------------------------------------------------\n",
    "def precision_at_k(ranking, relevantes, k):\n",
    "    ranking_k = ranking[:k]\n",
    "    aciertos = sum(1 for doc_id in ranking_k if doc_id in relevantes)\n",
    "    return aciertos / k\n",
    "\n",
    "def average_precision(ranking, relevantes):\n",
    "    precisiones = []\n",
    "    hits = 0\n",
    "    for i, doc_id in enumerate(ranking):\n",
    "        if doc_id in relevantes:\n",
    "            hits += 1\n",
    "            precisiones.append(hits / (i + 1))\n",
    "    if hits == 0:\n",
    "        return 0.0\n",
    "    return sum(precisiones) / hits\n",
    "\n",
    "# -----------------------------------------------------\n",
    "# Paso 4: Cálculo de métricas\n",
    "# -----------------------------------------------------\n",
    "precision3_bm25 = precision_at_k(ranking_bm25, documentos_relevantes, 3)\n",
    "map_bm25 = average_precision(ranking_bm25, documentos_relevantes)\n",
    "\n",
    "precision3_tfidf = precision_at_k(ranking_tfidf, documentos_relevantes, 3)\n",
    "map_tfidf = average_precision(ranking_tfidf, documentos_relevantes)\n",
    "\n",
    "# -----------------------------------------------------\n",
    "# Paso 5: Resultados y comparación\n",
    "# -----------------------------------------------------\n",
    "print(\"\\n📊 Evaluación de modelos para la consulta:\", consulta)\n",
    "print(\"Documentos relevantes definidos manualmente:\", documentos_relevantes)\n",
    "print(f\"🔹 BM25    - Precision@3: {precision3_bm25:.3f}, MAP: {map_bm25:.3f}\")\n",
    "print(f\"🔸 TF-IDF  - Precision@3: {precision3_tfidf:.3f}, MAP: {map_tfidf:.3f}\")\n",
    "\n",
    "# -----------------------------------------------------\n",
    "# Paso 6: Visualización (opcional)\n",
    "# -----------------------------------------------------\n",
    "top_n = 10\n",
    "top_docs = ranking_bm25[:top_n]\n",
    "\n",
    "comparacion_df = pd.DataFrame({\n",
    "    'Documento': top_docs,\n",
    "    'Score BM25': [bm25_scores[i] for i in top_docs],\n",
    "    'Score TF-IDF': [tfidf_scores[i] for i in top_docs],\n",
    "    'Relevante': ['✅' if i in documentos_relevantes else '' for i in top_docs]\n",
    "})\n",
    "\n",
    "plt.figure(figsize=(12, 6))\n",
    "x = np.arange(len(comparacion_df))\n",
    "bar_width = 0.35\n",
    "\n",
    "plt.bar(x - bar_width/2, comparacion_df['Score BM25'], bar_width, label='BM25', color='steelblue')\n",
    "plt.bar(x + bar_width/2, comparacion_df['Score TF-IDF'], bar_width, label='TF-IDF', color='orange')\n",
    "\n",
    "plt.xlabel('ID Documento')\n",
    "plt.ylabel('Score')\n",
    "plt.title('Comparación de Scores: BM25 vs TF-IDF (Top 10)')\n",
    "plt.xticks(x, comparacion_df['Documento'], rotation=45)\n",
    "plt.legend()\n",
    "plt.tight_layout()\n",
    "plt.show()\n",
    "\n",
    "print(\"\\n📝 Comparación de documentos top 10 (según BM25):\")\n",
    "print(comparacion_df[['Documento', 'Score BM25', 'Score TF-IDF', 'Relevante']])\n",
    "\n"
   ]
  }
 ],
 "metadata": {
  "kernelspec": {
   "display_name": "Python 3",
   "language": "python",
   "name": "python3"
  },
  "language_info": {
   "codemirror_mode": {
    "name": "ipython",
    "version": 3
   },
   "file_extension": ".py",
   "mimetype": "text/x-python",
   "name": "python",
   "nbconvert_exporter": "python",
   "pygments_lexer": "ipython3",
   "version": "3.11.2"
  }
 },
 "nbformat": 4,
 "nbformat_minor": 5
}
